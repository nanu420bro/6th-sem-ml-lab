{
 "cells": [
  {
   "cell_type": "code",
   "execution_count": 1,
   "id": "489f7dc7",
   "metadata": {},
   "outputs": [],
   "source": [
    "import pandas as pd\n",
    "import numpy as np"
   ]
  },
  {
   "cell_type": "code",
   "execution_count": 19,
   "id": "9c3c9a73",
   "metadata": {},
   "outputs": [],
   "source": [
    "d={'SKY':['SUNNY','SUNNY','SUNNY','SUNNY'],\n",
    "   'TEMP':['WARM','WARM','COLD','WARM'],\n",
    "   'HUMIDITY':['NORMAL','HIGH','HIGH','HIGH'],\n",
    "   'WIND':['STRONG','STRONG','STRONG','STRONG'],\n",
    "   'WATER':['WARM','WARM','WARM','COLD'],\n",
    "   'FORCAST':['SAME','SAME','CHANGE','CHANGE'],\n",
    "   'ENJOY':['YES','YES','NO','NO']}"
   ]
  },
  {
   "cell_type": "code",
   "execution_count": 20,
   "id": "e63032f0",
   "metadata": {},
   "outputs": [],
   "source": [
    "df=pd.DataFrame(d)"
   ]
  },
  {
   "cell_type": "code",
   "execution_count": 21,
   "id": "8a831180",
   "metadata": {},
   "outputs": [],
   "source": [
    "with open('WEATHER.CSV','w') as f:\n",
    "    df.to_csv(f)"
   ]
  },
  {
   "cell_type": "code",
   "execution_count": 22,
   "id": "07401af6",
   "metadata": {},
   "outputs": [
    {
     "data": {
      "text/html": [
       "<div>\n",
       "<style scoped>\n",
       "    .dataframe tbody tr th:only-of-type {\n",
       "        vertical-align: middle;\n",
       "    }\n",
       "\n",
       "    .dataframe tbody tr th {\n",
       "        vertical-align: top;\n",
       "    }\n",
       "\n",
       "    .dataframe thead th {\n",
       "        text-align: right;\n",
       "    }\n",
       "</style>\n",
       "<table border=\"1\" class=\"dataframe\">\n",
       "  <thead>\n",
       "    <tr style=\"text-align: right;\">\n",
       "      <th></th>\n",
       "      <th>SKY</th>\n",
       "      <th>TEMP</th>\n",
       "      <th>HUMIDITY</th>\n",
       "      <th>WIND</th>\n",
       "      <th>WATER</th>\n",
       "      <th>FORCAST</th>\n",
       "      <th>ENJOY</th>\n",
       "    </tr>\n",
       "  </thead>\n",
       "  <tbody>\n",
       "    <tr>\n",
       "      <th>0</th>\n",
       "      <td>SUNNY</td>\n",
       "      <td>WARM</td>\n",
       "      <td>NORMAL</td>\n",
       "      <td>STRONG</td>\n",
       "      <td>WARM</td>\n",
       "      <td>SAME</td>\n",
       "      <td>YES</td>\n",
       "    </tr>\n",
       "    <tr>\n",
       "      <th>1</th>\n",
       "      <td>SUNNY</td>\n",
       "      <td>WARM</td>\n",
       "      <td>HIGH</td>\n",
       "      <td>STRONG</td>\n",
       "      <td>WARM</td>\n",
       "      <td>SAME</td>\n",
       "      <td>YES</td>\n",
       "    </tr>\n",
       "    <tr>\n",
       "      <th>2</th>\n",
       "      <td>SUNNY</td>\n",
       "      <td>COLD</td>\n",
       "      <td>HIGH</td>\n",
       "      <td>STRONG</td>\n",
       "      <td>WARM</td>\n",
       "      <td>CHANGE</td>\n",
       "      <td>NO</td>\n",
       "    </tr>\n",
       "    <tr>\n",
       "      <th>3</th>\n",
       "      <td>SUNNY</td>\n",
       "      <td>WARM</td>\n",
       "      <td>HIGH</td>\n",
       "      <td>STRONG</td>\n",
       "      <td>COLD</td>\n",
       "      <td>CHANGE</td>\n",
       "      <td>NO</td>\n",
       "    </tr>\n",
       "  </tbody>\n",
       "</table>\n",
       "</div>"
      ],
      "text/plain": [
       "     SKY  TEMP HUMIDITY    WIND WATER FORCAST ENJOY\n",
       "0  SUNNY  WARM   NORMAL  STRONG  WARM    SAME   YES\n",
       "1  SUNNY  WARM     HIGH  STRONG  WARM    SAME   YES\n",
       "2  SUNNY  COLD     HIGH  STRONG  WARM  CHANGE    NO\n",
       "3  SUNNY  WARM     HIGH  STRONG  COLD  CHANGE    NO"
      ]
     },
     "execution_count": 22,
     "metadata": {},
     "output_type": "execute_result"
    }
   ],
   "source": [
    "df.head()"
   ]
  },
  {
   "cell_type": "code",
   "execution_count": 23,
   "id": "fb9bfb1f",
   "metadata": {},
   "outputs": [],
   "source": [
    "data=np.array(df)[:,:-1]"
   ]
  },
  {
   "cell_type": "code",
   "execution_count": 24,
   "id": "c8561457",
   "metadata": {},
   "outputs": [
    {
     "data": {
      "text/plain": [
       "array([['SUNNY', 'WARM', 'NORMAL', 'STRONG', 'WARM', 'SAME'],\n",
       "       ['SUNNY', 'WARM', 'HIGH', 'STRONG', 'WARM', 'SAME'],\n",
       "       ['SUNNY', 'COLD', 'HIGH', 'STRONG', 'WARM', 'CHANGE'],\n",
       "       ['SUNNY', 'WARM', 'HIGH', 'STRONG', 'COLD', 'CHANGE']],\n",
       "      dtype=object)"
      ]
     },
     "execution_count": 24,
     "metadata": {},
     "output_type": "execute_result"
    }
   ],
   "source": [
    "data"
   ]
  },
  {
   "cell_type": "code",
   "execution_count": 25,
   "id": "8e96991e",
   "metadata": {},
   "outputs": [],
   "source": [
    "target=np.array(df)[:,-1]"
   ]
  },
  {
   "cell_type": "code",
   "execution_count": 26,
   "id": "277ac180",
   "metadata": {},
   "outputs": [
    {
     "data": {
      "text/plain": [
       "array(['YES', 'YES', 'NO', 'NO'], dtype=object)"
      ]
     },
     "execution_count": 26,
     "metadata": {},
     "output_type": "execute_result"
    }
   ],
   "source": [
    "target"
   ]
  },
  {
   "cell_type": "code",
   "execution_count": 35,
   "id": "85af0739",
   "metadata": {},
   "outputs": [],
   "source": [
    "def train(c,t):\n",
    "    s=None\n",
    "    s\n",
    "    for i,val in enumerate(t):\n",
    "        if val==\"YES\":\n",
    "            s=c[i].copy()\n",
    "            break\n",
    "        if i is None:\n",
    "            return(\"No of Positive\")\n",
    "    for i,val in enumerate(t):\n",
    "        if t[i]==\"YES\":\n",
    "            for x in range(len(s)):\n",
    "                if val[x] != s[x]:\n",
    "                    s[x] = \"?\"\n",
    "    return s\n"
   ]
  },
  {
   "cell_type": "code",
   "execution_count": 36,
   "id": "1e0c997e",
   "metadata": {},
   "outputs": [
    {
     "ename": "IndexError",
     "evalue": "string index out of range",
     "output_type": "error",
     "traceback": [
      "\u001b[1;31m---------------------------------------------------------------------------\u001b[0m",
      "\u001b[1;31mIndexError\u001b[0m                                Traceback (most recent call last)",
      "Cell \u001b[1;32mIn[36], line 1\u001b[0m\n\u001b[1;32m----> 1\u001b[0m \u001b[38;5;28mprint\u001b[39m(\u001b[38;5;124m\"\u001b[39m\u001b[38;5;124mthe final hypothesis is\u001b[39m\u001b[38;5;124m\"\u001b[39m,train(data,target))\n",
      "Cell \u001b[1;32mIn[35], line 13\u001b[0m, in \u001b[0;36mtrain\u001b[1;34m(c, t)\u001b[0m\n\u001b[0;32m     11\u001b[0m     \u001b[38;5;28;01mif\u001b[39;00m t[i]\u001b[38;5;241m==\u001b[39m\u001b[38;5;124m\"\u001b[39m\u001b[38;5;124mYES\u001b[39m\u001b[38;5;124m\"\u001b[39m:\n\u001b[0;32m     12\u001b[0m         \u001b[38;5;28;01mfor\u001b[39;00m x \u001b[38;5;129;01min\u001b[39;00m \u001b[38;5;28mrange\u001b[39m(\u001b[38;5;28mlen\u001b[39m(s)):\n\u001b[1;32m---> 13\u001b[0m             \u001b[38;5;28;01mif\u001b[39;00m val[x] \u001b[38;5;241m!=\u001b[39m s[x]:\n\u001b[0;32m     14\u001b[0m                 s[x] \u001b[38;5;241m=\u001b[39m \u001b[38;5;124m\"\u001b[39m\u001b[38;5;124m?\u001b[39m\u001b[38;5;124m\"\u001b[39m\n\u001b[0;32m     15\u001b[0m \u001b[38;5;28;01mreturn\u001b[39;00m s\n",
      "\u001b[1;31mIndexError\u001b[0m: string index out of range"
     ]
    }
   ],
   "source": [
    "print(\"the final hypothesis is\",train(data,target))"
   ]
  },
  {
   "cell_type": "code",
   "execution_count": 37,
   "id": "b7c82a3b",
   "metadata": {},
   "outputs": [
    {
     "name": "stdout",
     "output_type": "stream",
     "text": [
      "The final hypothesis is: No positive examples found, cannot generate hypothesis\n"
     ]
    }
   ],
   "source": [
    "def train(c, t):\n",
    "    s = None\n",
    "    s\n",
    "    for i, val in enumerate(t):\n",
    "        if val == \"yes\":\n",
    "            s = c[i].copy()\n",
    "            break\n",
    "        if s is None:\n",
    "            return \"No positive examples found, cannot generate hypothesis\"\n",
    "    for i, val in enumerate(c):\n",
    "        if t[i] == \"yes\":\n",
    "            for x in range(len(s)):\n",
    "                if val[x] != s[x]:\n",
    "                    s[x] = '?'\n",
    "    return s\n",
    "print(\"The final hypothesis is:\", train(data, target))"
   ]
  },
  {
   "cell_type": "code",
   "execution_count": null,
   "id": "bf9bd6a0",
   "metadata": {},
   "outputs": [],
   "source": []
  }
 ],
 "metadata": {
  "kernelspec": {
   "display_name": "Python 3 (ipykernel)",
   "language": "python",
   "name": "python3"
  },
  "language_info": {
   "codemirror_mode": {
    "name": "ipython",
    "version": 3
   },
   "file_extension": ".py",
   "mimetype": "text/x-python",
   "name": "python",
   "nbconvert_exporter": "python",
   "pygments_lexer": "ipython3",
   "version": "3.11.5"
  }
 },
 "nbformat": 4,
 "nbformat_minor": 5
}
