{
 "cells": [
  {
   "cell_type": "code",
   "execution_count": 1,
   "id": "bbe14098",
   "metadata": {},
   "outputs": [],
   "source": [
    "import pandas as pd\n",
    "import numpy as np"
   ]
  },
  {
   "cell_type": "code",
   "execution_count": 2,
   "id": "bf88c94c",
   "metadata": {},
   "outputs": [],
   "source": [
    "data=pd.read_csv(\"WEATHER.CSV\")"
   ]
  },
  {
   "cell_type": "code",
   "execution_count": 3,
   "id": "7811f08e",
   "metadata": {},
   "outputs": [
    {
     "data": {
      "text/html": [
       "<div>\n",
       "<style scoped>\n",
       "    .dataframe tbody tr th:only-of-type {\n",
       "        vertical-align: middle;\n",
       "    }\n",
       "\n",
       "    .dataframe tbody tr th {\n",
       "        vertical-align: top;\n",
       "    }\n",
       "\n",
       "    .dataframe thead th {\n",
       "        text-align: right;\n",
       "    }\n",
       "</style>\n",
       "<table border=\"1\" class=\"dataframe\">\n",
       "  <thead>\n",
       "    <tr style=\"text-align: right;\">\n",
       "      <th></th>\n",
       "      <th>Unnamed: 0</th>\n",
       "      <th>SKY</th>\n",
       "      <th>TEMP</th>\n",
       "      <th>HUMIDITY</th>\n",
       "      <th>WIND</th>\n",
       "      <th>WATER</th>\n",
       "      <th>FORCAST</th>\n",
       "      <th>ENJOY</th>\n",
       "    </tr>\n",
       "  </thead>\n",
       "  <tbody>\n",
       "    <tr>\n",
       "      <th>0</th>\n",
       "      <td>0</td>\n",
       "      <td>SUNNY</td>\n",
       "      <td>WARM</td>\n",
       "      <td>NORMAL</td>\n",
       "      <td>STRONG</td>\n",
       "      <td>WARM</td>\n",
       "      <td>SAME</td>\n",
       "      <td>YES</td>\n",
       "    </tr>\n",
       "    <tr>\n",
       "      <th>1</th>\n",
       "      <td>1</td>\n",
       "      <td>SUNNY</td>\n",
       "      <td>WARM</td>\n",
       "      <td>HIGH</td>\n",
       "      <td>STRONG</td>\n",
       "      <td>WARM</td>\n",
       "      <td>SAME</td>\n",
       "      <td>YES</td>\n",
       "    </tr>\n",
       "    <tr>\n",
       "      <th>2</th>\n",
       "      <td>2</td>\n",
       "      <td>SUNNY</td>\n",
       "      <td>COLD</td>\n",
       "      <td>HIGH</td>\n",
       "      <td>STRONG</td>\n",
       "      <td>WARM</td>\n",
       "      <td>CHANGE</td>\n",
       "      <td>NO</td>\n",
       "    </tr>\n",
       "    <tr>\n",
       "      <th>3</th>\n",
       "      <td>3</td>\n",
       "      <td>SUNNY</td>\n",
       "      <td>WARM</td>\n",
       "      <td>HIGH</td>\n",
       "      <td>STRONG</td>\n",
       "      <td>COLD</td>\n",
       "      <td>CHANGE</td>\n",
       "      <td>NO</td>\n",
       "    </tr>\n",
       "  </tbody>\n",
       "</table>\n",
       "</div>"
      ],
      "text/plain": [
       "   Unnamed: 0    SKY  TEMP HUMIDITY    WIND WATER FORCAST ENJOY\n",
       "0           0  SUNNY  WARM   NORMAL  STRONG  WARM    SAME   YES\n",
       "1           1  SUNNY  WARM     HIGH  STRONG  WARM    SAME   YES\n",
       "2           2  SUNNY  COLD     HIGH  STRONG  WARM  CHANGE    NO\n",
       "3           3  SUNNY  WARM     HIGH  STRONG  COLD  CHANGE    NO"
      ]
     },
     "execution_count": 3,
     "metadata": {},
     "output_type": "execute_result"
    }
   ],
   "source": [
    "data"
   ]
  },
  {
   "cell_type": "code",
   "execution_count": 4,
   "id": "33233d46",
   "metadata": {},
   "outputs": [],
   "source": [
    "concepts=np.array(data)[:,:-1]"
   ]
  },
  {
   "cell_type": "code",
   "execution_count": 5,
   "id": "3ce9dd75",
   "metadata": {},
   "outputs": [
    {
     "data": {
      "text/plain": [
       "array([[0, 'SUNNY', 'WARM', 'NORMAL', 'STRONG', 'WARM', 'SAME'],\n",
       "       [1, 'SUNNY', 'WARM', 'HIGH', 'STRONG', 'WARM', 'SAME'],\n",
       "       [2, 'SUNNY', 'COLD', 'HIGH', 'STRONG', 'WARM', 'CHANGE'],\n",
       "       [3, 'SUNNY', 'WARM', 'HIGH', 'STRONG', 'COLD', 'CHANGE']],\n",
       "      dtype=object)"
      ]
     },
     "execution_count": 5,
     "metadata": {},
     "output_type": "execute_result"
    }
   ],
   "source": [
    "concepts"
   ]
  },
  {
   "cell_type": "code",
   "execution_count": 6,
   "id": "a1c32053",
   "metadata": {},
   "outputs": [],
   "source": [
    "target=np.array(data)[:,-1]"
   ]
  },
  {
   "cell_type": "code",
   "execution_count": 7,
   "id": "8d401dc5",
   "metadata": {},
   "outputs": [
    {
     "data": {
      "text/plain": [
       "array(['YES', 'YES', 'NO', 'NO'], dtype=object)"
      ]
     },
     "execution_count": 7,
     "metadata": {},
     "output_type": "execute_result"
    }
   ],
   "source": [
    "target"
   ]
  },
  {
   "cell_type": "code",
   "execution_count": 8,
   "id": "48747b06",
   "metadata": {},
   "outputs": [],
   "source": [
    "def learn(concepts,target):\n",
    "    sh=concepts[0].copy()\n",
    "    print(\"Initialization of Specific and Generic : \\n\")\n",
    "    print(\"Specific Boundary : \",sh)\n",
    "    gh=[[\"?\" for i in range(len(sh))] for i in range(len(sh))]\n",
    "    print(\"Generic Boundary\",gh)\n",
    "    for i,h in enumerate(concepts):\n",
    "        print(\"Instance \\n\", i+1 , \"is \", h)\n",
    "        if target[i] == \"YES\":\n",
    "            print(\"Instance is Positive \")\n",
    "            for x in range(len(sh)):\n",
    "                if h[x]!= sh[x]:\n",
    "                    sh[x] ='?'\n",
    "                    gh[x][x] ='?'\n",
    "        if target[i] == \"NO\":\n",
    "            print(\"Instances are Negative \")\n",
    "            for x in range(len(gh)):\n",
    "                if h[x]!=sh[x]:\n",
    "                    gh[x][x]=sh[x]\n",
    "                else:\n",
    "                    gh[x][x]=\"?\"\n",
    "        print(\"Specific Bundary after \", i+1, \"Instance is \", sh)   \n",
    "        print(\"Generic Boundary after \", i+1, \"Instance is \", gh)\n",
    "        print(\"\\n\")\n",
    "    \n",
    "    indices=[i for i,val in enumerate(gh) if val == ['?','?','?','?','?','?']]\n",
    "    for i in indices:\n",
    "        gh.remove(['?','?','?','?','?','?'])\n",
    "    return sh,gh"
   ]
  },
  {
   "cell_type": "code",
   "execution_count": 9,
   "id": "7ef9c0fa",
   "metadata": {},
   "outputs": [
    {
     "name": "stdout",
     "output_type": "stream",
     "text": [
      "Initialization of Specific and Generic : \n",
      "\n",
      "Specific Boundary :  [0 'SUNNY' 'WARM' 'NORMAL' 'STRONG' 'WARM' 'SAME']\n",
      "Generic Boundary [['?', '?', '?', '?', '?', '?', '?'], ['?', '?', '?', '?', '?', '?', '?'], ['?', '?', '?', '?', '?', '?', '?'], ['?', '?', '?', '?', '?', '?', '?'], ['?', '?', '?', '?', '?', '?', '?'], ['?', '?', '?', '?', '?', '?', '?'], ['?', '?', '?', '?', '?', '?', '?']]\n",
      "Instance \n",
      " 1 is  [0 'SUNNY' 'WARM' 'NORMAL' 'STRONG' 'WARM' 'SAME']\n",
      "Instance is Positive \n",
      "Specific Bundary after  1 Instance is  [0 'SUNNY' 'WARM' 'NORMAL' 'STRONG' 'WARM' 'SAME']\n",
      "Generic Boundary after  1 Instance is  [['?', '?', '?', '?', '?', '?', '?'], ['?', '?', '?', '?', '?', '?', '?'], ['?', '?', '?', '?', '?', '?', '?'], ['?', '?', '?', '?', '?', '?', '?'], ['?', '?', '?', '?', '?', '?', '?'], ['?', '?', '?', '?', '?', '?', '?'], ['?', '?', '?', '?', '?', '?', '?']]\n",
      "\n",
      "\n",
      "Instance \n",
      " 2 is  [1 'SUNNY' 'WARM' 'HIGH' 'STRONG' 'WARM' 'SAME']\n",
      "Instance is Positive \n",
      "Specific Bundary after  2 Instance is  ['?' 'SUNNY' 'WARM' '?' 'STRONG' 'WARM' 'SAME']\n",
      "Generic Boundary after  2 Instance is  [['?', '?', '?', '?', '?', '?', '?'], ['?', '?', '?', '?', '?', '?', '?'], ['?', '?', '?', '?', '?', '?', '?'], ['?', '?', '?', '?', '?', '?', '?'], ['?', '?', '?', '?', '?', '?', '?'], ['?', '?', '?', '?', '?', '?', '?'], ['?', '?', '?', '?', '?', '?', '?']]\n",
      "\n",
      "\n",
      "Instance \n",
      " 3 is  [2 'SUNNY' 'COLD' 'HIGH' 'STRONG' 'WARM' 'CHANGE']\n",
      "Instances are Negative \n",
      "Specific Bundary after  3 Instance is  ['?' 'SUNNY' 'WARM' '?' 'STRONG' 'WARM' 'SAME']\n",
      "Generic Boundary after  3 Instance is  [['?', '?', '?', '?', '?', '?', '?'], ['?', '?', '?', '?', '?', '?', '?'], ['?', '?', 'WARM', '?', '?', '?', '?'], ['?', '?', '?', '?', '?', '?', '?'], ['?', '?', '?', '?', '?', '?', '?'], ['?', '?', '?', '?', '?', '?', '?'], ['?', '?', '?', '?', '?', '?', 'SAME']]\n",
      "\n",
      "\n",
      "Instance \n",
      " 4 is  [3 'SUNNY' 'WARM' 'HIGH' 'STRONG' 'COLD' 'CHANGE']\n",
      "Instances are Negative \n",
      "Specific Bundary after  4 Instance is  ['?' 'SUNNY' 'WARM' '?' 'STRONG' 'WARM' 'SAME']\n",
      "Generic Boundary after  4 Instance is  [['?', '?', '?', '?', '?', '?', '?'], ['?', '?', '?', '?', '?', '?', '?'], ['?', '?', '?', '?', '?', '?', '?'], ['?', '?', '?', '?', '?', '?', '?'], ['?', '?', '?', '?', '?', '?', '?'], ['?', '?', '?', '?', '?', 'WARM', '?'], ['?', '?', '?', '?', '?', '?', 'SAME']]\n",
      "\n",
      "\n"
     ]
    }
   ],
   "source": [
    "sh_final,gh_final=learn(concepts,target)"
   ]
  },
  {
   "cell_type": "code",
   "execution_count": 10,
   "id": "791fdde1",
   "metadata": {},
   "outputs": [
    {
     "data": {
      "text/plain": [
       "array(['?', 'SUNNY', 'WARM', '?', 'STRONG', 'WARM', 'SAME'], dtype=object)"
      ]
     },
     "execution_count": 10,
     "metadata": {},
     "output_type": "execute_result"
    }
   ],
   "source": [
    "sh_final"
   ]
  },
  {
   "cell_type": "code",
   "execution_count": 11,
   "id": "fbb0d320",
   "metadata": {},
   "outputs": [
    {
     "data": {
      "text/plain": [
       "[['?', '?', '?', '?', '?', '?', '?'],\n",
       " ['?', '?', '?', '?', '?', '?', '?'],\n",
       " ['?', '?', '?', '?', '?', '?', '?'],\n",
       " ['?', '?', '?', '?', '?', '?', '?'],\n",
       " ['?', '?', '?', '?', '?', '?', '?'],\n",
       " ['?', '?', '?', '?', '?', 'WARM', '?'],\n",
       " ['?', '?', '?', '?', '?', '?', 'SAME']]"
      ]
     },
     "execution_count": 11,
     "metadata": {},
     "output_type": "execute_result"
    }
   ],
   "source": [
    "gh_final"
   ]
  },
  {
   "cell_type": "code",
   "execution_count": null,
   "id": "018c32ec",
   "metadata": {},
   "outputs": [],
   "source": []
  }
 ],
 "metadata": {
  "kernelspec": {
   "display_name": "Python 3 (ipykernel)",
   "language": "python",
   "name": "python3"
  },
  "language_info": {
   "codemirror_mode": {
    "name": "ipython",
    "version": 3
   },
   "file_extension": ".py",
   "mimetype": "text/x-python",
   "name": "python",
   "nbconvert_exporter": "python",
   "pygments_lexer": "ipython3",
   "version": "3.11.5"
  }
 },
 "nbformat": 4,
 "nbformat_minor": 5
}
