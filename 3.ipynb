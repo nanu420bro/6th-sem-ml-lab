{
 "cells": [
  {
   "cell_type": "code",
   "execution_count": 1,
   "id": "5e3065fc",
   "metadata": {},
   "outputs": [],
   "source": [
    "import numpy as np\n",
    "import math\n",
    "import pandas as pd"
   ]
  },
  {
   "cell_type": "code",
   "execution_count": 2,
   "id": "5b0072c6",
   "metadata": {},
   "outputs": [],
   "source": [
    "def read_data(filename):\n",
    "    data = pd.read_csv(filename)\n",
    "    print(data, \"\\n\")\n",
    "    headers = list(data.columns)\n",
    "    metadata = headers[:-1]\n",
    "    traindata = np.array(data.values)\n",
    "    return (metadata, traindata)"
   ]
  },
  {
   "cell_type": "code",
   "execution_count": 3,
   "id": "e38d3d26",
   "metadata": {},
   "outputs": [],
   "source": [
    "class Node:\n",
    "    def __init__(self, attribute):\n",
    "        self.attribute = attribute\n",
    "        self.children = []\n",
    "        self.answer = \"\"\n",
    "        \n",
    "    def __str__(self):\n",
    "        return self.attribute"
   ]
  },
  {
   "cell_type": "code",
   "execution_count": 6,
   "id": "fab16c07",
   "metadata": {},
   "outputs": [],
   "source": [
    "def subtables(data, col, delete):\n",
    "    unique_items = np.unique(data[:, col])\n",
    "    count = np.zeros((unique_items.shape[0], 1), dtype=np.int32)\n",
    "    dict = {}\n",
    "    for x in range(unique_items.shape[0]):\n",
    "        for y in range(data.shape[0]):\n",
    "            if data[y, col] == unique_items[x]:\n",
    "                count[x] += 1          \n",
    "    for x in range(unique_items.shape[0]):\n",
    "        dict[unique_items[x]] = np.empty((int(count[x]), data.shape[1]), dtype=\"|S32\")\n",
    "        pos = 0\n",
    "        for y in range(data.shape[0]):\n",
    "            if data[y, col] == unique_items[x]:\n",
    "                dict[unique_items[x]][pos] = data[y]\n",
    "                pos += 1       \n",
    "        if delete:\n",
    "            dict[unique_items[x]] = np.delete(dict[unique_items[x]], col, 1)\n",
    "        \n",
    "    return unique_items, dict"
   ]
  },
  {
   "cell_type": "code",
   "execution_count": 7,
   "id": "a26bcb80",
   "metadata": {},
   "outputs": [],
   "source": [
    "def entropy(S):\n",
    "    items, counts = np.unique(S, return_counts=True)\n",
    "    if items.size == 1:\n",
    "        return 0\n",
    "    probs = counts / len(S)\n",
    "    entropy = - np.sum(probs * np.log2(probs))\n",
    "    return entropy"
   ]
  },
  {
   "cell_type": "code",
   "execution_count": 8,
   "id": "ebe53dec",
   "metadata": {},
   "outputs": [],
   "source": [
    "def gain_ratio(data, col):\n",
    "    items, dict = subtables(data, col, delete=False)         \n",
    "    total_size = data.shape[0]\n",
    "    entropies = np.zeros((items.shape[0], 1))\n",
    "    intrinsic = np.zeros((items.shape[0], 1))\n",
    "    for x in range(items.shape[0]):\n",
    "        ratio = dict[items[x]].shape[0] / total_size\n",
    "        entropies[x] = ratio * entropy(dict[items[x]][:, -1])\n",
    "        intrinsic[x] = ratio * math.log2(ratio)   \n",
    "    total_entropy = entropy(data[:, -1])\n",
    "    iv = - np.sum(intrinsic)\n",
    "    for x in range(entropies.shape[0]):\n",
    "        total_entropy -= entropies[x]\n",
    "        \n",
    "    return total_entropy / iv"
   ]
  },
  {
   "cell_type": "code",
   "execution_count": 9,
   "id": "384122f6",
   "metadata": {},
   "outputs": [],
   "source": [
    "def create_node(data, metadata):\n",
    "    if (np.unique(data[:, -1])).shape[0] == 1:\n",
    "        node = Node(\"\")\n",
    "        node.answer = np.unique(data[:, -1])[0]\n",
    "        return node\n",
    "    gains = np.zeros((data.shape[1] - 1, 1))\n",
    "    for col in range(data.shape[1] - 1):\n",
    "        gains[col] = gain_ratio(data, col)\n",
    "    split = np.argmax(gains)\n",
    "    node = Node(metadata[split])    \n",
    "    metadata = np.delete(metadata, split, 0)    \n",
    "    items, dict = subtables(data, split, delete=True)\n",
    "    for x in range(items.shape[0]):\n",
    "        child = create_node(dict[items[x]], metadata)\n",
    "        node.children.append((items[x], child))\n",
    "    \n",
    "    return node"
   ]
  },
  {
   "cell_type": "code",
   "execution_count": 10,
   "id": "fccb642a",
   "metadata": {},
   "outputs": [],
   "source": [
    "def empty(size):\n",
    "    s = \"\"\n",
    "    for x in range(size):\n",
    "        s += \"   \"\n",
    "    return s"
   ]
  },
  {
   "cell_type": "code",
   "execution_count": 11,
   "id": "26bb02df",
   "metadata": {},
   "outputs": [],
   "source": [
    "def print_tree(node, level):\n",
    "    if node.answer != \"\":\n",
    "        print(empty(level), node.answer)\n",
    "        return\n",
    "    print(empty(level), node.attribute)\n",
    "    for value, n in node.children:\n",
    "        print(empty(level + 1), value)\n",
    "        print_tree(n, level + 2)"
   ]
  },
  {
   "cell_type": "code",
   "execution_count": 12,
   "id": "fd2f0816",
   "metadata": {},
   "outputs": [
    {
     "name": "stdout",
     "output_type": "stream",
     "text": [
      "     Outlook Temperature Humidity  Windy PlayTennis\n",
      "0      Sunny         Hot     High  False         No\n",
      "1      Sunny         Hot     High   True         No\n",
      "2   Overcast         Hot     High  False        Yes\n",
      "3      Rainy        Mild     High  False        Yes\n",
      "4      Rainy        Cool   Normal  False        Yes\n",
      "5      Rainy        Cool   Normal   True         No\n",
      "6   Overcast        Cool   Normal   True        Yes\n",
      "7      Sunny        Mild     High  False         No\n",
      "8      Sunny        Cool   Normal  False        Yes\n",
      "9      Rainy        Mild   Normal  False        Yes\n",
      "10     Sunny        Mild   Normal   True        Yes\n",
      "11  Overcast        Mild     High   True        Yes\n",
      "12  Overcast         Hot   Normal  False        Yes\n",
      "13     Rainy        Mild     High   True         No \n",
      "\n",
      " Outlook\n",
      "    Overcast\n",
      "       b'Yes'\n",
      "    Rainy\n",
      "       Windy\n",
      "          b'False'\n",
      "             b'Yes'\n",
      "          b'True'\n",
      "             b'No'\n",
      "    Sunny\n",
      "       Humidity\n",
      "          b'High'\n",
      "             b'No'\n",
      "          b'Normal'\n",
      "             b'Yes'\n"
     ]
    }
   ],
   "source": [
    "metadata, traindata = read_data(\"tennisdata.csv\")\n",
    "data = np.array(traindata)\n",
    "node = create_node(data, metadata)\n",
    "print_tree(node, 0)"
   ]
  },
  {
   "cell_type": "code",
   "execution_count": null,
   "id": "b6d12ffe",
   "metadata": {},
   "outputs": [],
   "source": []
  }
 ],
 "metadata": {
  "kernelspec": {
   "display_name": "Python 3 (ipykernel)",
   "language": "python",
   "name": "python3"
  },
  "language_info": {
   "codemirror_mode": {
    "name": "ipython",
    "version": 3
   },
   "file_extension": ".py",
   "mimetype": "text/x-python",
   "name": "python",
   "nbconvert_exporter": "python",
   "pygments_lexer": "ipython3",
   "version": "3.11.5"
  }
 },
 "nbformat": 4,
 "nbformat_minor": 5
}
